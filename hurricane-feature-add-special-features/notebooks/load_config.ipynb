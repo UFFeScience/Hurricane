{
 "cells": [
  {
   "cell_type": "code",
   "execution_count": 2,
   "metadata": {},
   "outputs": [
    {
     "data": {
      "text/plain": "['sexo', 'idade']"
     },
     "execution_count": 2,
     "metadata": {},
     "output_type": "execute_result"
    }
   ],
   "source": [
    "import os\n",
    "import json\n",
    "import pandas as pd\n",
    "import numpy as np\n",
    "\n",
    "file = \"/home/maiconbanni/Documentos/UFF/hurricane/dags/hurricane/configs/pmerj-crimes.json\"\n",
    "with open(file, 'r') as json_file:\n",
    "            config = json.load(json_file)\n",
    "\n",
    "l = []\n",
    "for interface in config['raw_interfaces']:\n",
    "    for key in interface['feature_columns'].keys():\n",
    "        l.append(interface['feature_columns'][key])\n",
    "list(dict.fromkeys(l))"
   ]
  },
  {
   "cell_type": "code",
   "execution_count": 13,
   "metadata": {},
   "outputs": [
    {
     "data": {
      "text/plain": "time_id                        int64\nseg_id                       float64\nsexo                          object\nidade                         object\nfemicides                      int64\ninjurys_followed_by_death      int64\nintentional_homicides          int64\nphones_rob                     int64\nphones_steal                   int64\nrobberys                       int64\nvehicles_rob                   int64\nvehicles_steal                 int64\ndtype: object"
     },
     "execution_count": 13,
     "metadata": {},
     "output_type": "execute_result"
    }
   ],
   "source": [
    "fixed_columns = ['seg_id', 'INFO']\n",
    "gold_columns  = fixed_columns + ['sexo', 'idade']\n",
    "index_columns = gold_columns.remove('INFO')\n",
    "\n",
    "df_infos = pd.read_parquet(\"/home/maiconbanni/Documentos/UFF/datalake/gold/crime.parquet\")\n",
    "#for column in info.feature_columns:\n",
    "#    df_silver_infos[column] = df_silver_infos[column].apply(lambda value : str(value).replace(\"nan\", \"\"))\n"
   ]
  }
 ],
 "metadata": {
  "kernelspec": {
   "display_name": "Python 3",
   "language": "python",
   "name": "python3"
  },
  "language_info": {
   "codemirror_mode": {
    "name": "ipython",
    "version": 3
   },
   "file_extension": ".py",
   "mimetype": "text/x-python",
   "name": "python",
   "nbconvert_exporter": "python",
   "pygments_lexer": "ipython3",
   "version": "3.8.10"
  },
  "orig_nbformat": 2
 },
 "nbformat": 4,
 "nbformat_minor": 2
}