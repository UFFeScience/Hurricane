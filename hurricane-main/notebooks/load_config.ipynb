{
 "cells": [
  {
   "cell_type": "code",
   "execution_count": 2,
   "metadata": {},
   "outputs": [
    {
     "data": {
      "text/plain": "'Tom|20'"
     },
     "execution_count": 2,
     "metadata": {},
     "output_type": "execute_result"
    }
   ],
   "source": [
    "import os\n",
    "import json\n",
    "import pandas as pd\n",
    "import numpy as np\n",
    "\n",
    "dataframe = pd.DataFrame({'Name': ['Tom', 'Maicon'], 'Age': [20,30]})\n",
    "key = ['Name', 'Age']\n",
    "\n",
    "\"|\".join(dataframe.loc[0,key].astype(str))\n"
   ]
  },
  {
   "cell_type": "code",
   "execution_count": 1,
   "metadata": {},
   "outputs": [
    {
     "data": {
      "text/html": "<div>\n<style scoped>\n    .dataframe tbody tr th:only-of-type {\n        vertical-align: middle;\n    }\n\n    .dataframe tbody tr th {\n        vertical-align: top;\n    }\n\n    .dataframe thead th {\n        text-align: right;\n    }\n</style>\n<table border=\"1\" class=\"dataframe\">\n  <thead>\n    <tr style=\"text-align: right;\">\n      <th></th>\n      <th>time_id</th>\n      <th>seg_id</th>\n      <th>femicides</th>\n      <th>injurys_followed_by_death</th>\n      <th>intentional_homicides</th>\n      <th>phones_rob</th>\n      <th>phones_steal</th>\n      <th>robberys</th>\n      <th>vehicles_rob</th>\n      <th>vehicles_steal</th>\n    </tr>\n  </thead>\n  <tbody>\n    <tr>\n      <th>0</th>\n      <td>1.0</td>\n      <td>3391.0</td>\n      <td>0</td>\n      <td>0</td>\n      <td>0</td>\n      <td>0</td>\n      <td>0</td>\n      <td>0</td>\n      <td>1</td>\n      <td>0</td>\n    </tr>\n    <tr>\n      <th>1</th>\n      <td>1.0</td>\n      <td>4501.0</td>\n      <td>0</td>\n      <td>0</td>\n      <td>0</td>\n      <td>1</td>\n      <td>0</td>\n      <td>0</td>\n      <td>0</td>\n      <td>0</td>\n    </tr>\n    <tr>\n      <th>2</th>\n      <td>1.0</td>\n      <td>5193.0</td>\n      <td>0</td>\n      <td>0</td>\n      <td>0</td>\n      <td>0</td>\n      <td>0</td>\n      <td>0</td>\n      <td>0</td>\n      <td>1</td>\n    </tr>\n    <tr>\n      <th>3</th>\n      <td>1.0</td>\n      <td>5247.0</td>\n      <td>0</td>\n      <td>0</td>\n      <td>0</td>\n      <td>1</td>\n      <td>0</td>\n      <td>0</td>\n      <td>0</td>\n      <td>0</td>\n    </tr>\n    <tr>\n      <th>4</th>\n      <td>1.0</td>\n      <td>6692.0</td>\n      <td>0</td>\n      <td>0</td>\n      <td>0</td>\n      <td>0</td>\n      <td>1</td>\n      <td>0</td>\n      <td>0</td>\n      <td>0</td>\n    </tr>\n    <tr>\n      <th>...</th>\n      <td>...</td>\n      <td>...</td>\n      <td>...</td>\n      <td>...</td>\n      <td>...</td>\n      <td>...</td>\n      <td>...</td>\n      <td>...</td>\n      <td>...</td>\n      <td>...</td>\n    </tr>\n    <tr>\n      <th>168422</th>\n      <td>3495.0</td>\n      <td>103416.0</td>\n      <td>0</td>\n      <td>0</td>\n      <td>1</td>\n      <td>0</td>\n      <td>0</td>\n      <td>0</td>\n      <td>0</td>\n      <td>0</td>\n    </tr>\n    <tr>\n      <th>168423</th>\n      <td>3496.0</td>\n      <td>287414.0</td>\n      <td>0</td>\n      <td>0</td>\n      <td>1</td>\n      <td>0</td>\n      <td>0</td>\n      <td>0</td>\n      <td>0</td>\n      <td>0</td>\n    </tr>\n    <tr>\n      <th>168424</th>\n      <td>3497.0</td>\n      <td>289147.0</td>\n      <td>0</td>\n      <td>0</td>\n      <td>1</td>\n      <td>0</td>\n      <td>0</td>\n      <td>0</td>\n      <td>0</td>\n      <td>0</td>\n    </tr>\n    <tr>\n      <th>168425</th>\n      <td>3498.0</td>\n      <td>103416.0</td>\n      <td>0</td>\n      <td>0</td>\n      <td>0</td>\n      <td>0</td>\n      <td>0</td>\n      <td>1</td>\n      <td>0</td>\n      <td>0</td>\n    </tr>\n    <tr>\n      <th>168426</th>\n      <td>3499.0</td>\n      <td>103416.0</td>\n      <td>0</td>\n      <td>0</td>\n      <td>0</td>\n      <td>0</td>\n      <td>0</td>\n      <td>1</td>\n      <td>0</td>\n      <td>0</td>\n    </tr>\n  </tbody>\n</table>\n<p>168427 rows × 10 columns</p>\n</div>",
      "text/plain": "        time_id    seg_id  femicides  injurys_followed_by_death  \\\n0           1.0    3391.0          0                          0   \n1           1.0    4501.0          0                          0   \n2           1.0    5193.0          0                          0   \n3           1.0    5247.0          0                          0   \n4           1.0    6692.0          0                          0   \n...         ...       ...        ...                        ...   \n168422   3495.0  103416.0          0                          0   \n168423   3496.0  287414.0          0                          0   \n168424   3497.0  289147.0          0                          0   \n168425   3498.0  103416.0          0                          0   \n168426   3499.0  103416.0          0                          0   \n\n        intentional_homicides  phones_rob  phones_steal  robberys  \\\n0                           0           0             0         0   \n1                           0           1             0         0   \n2                           0           0             0         0   \n3                           0           1             0         0   \n4                           0           0             1         0   \n...                       ...         ...           ...       ...   \n168422                      1           0             0         0   \n168423                      1           0             0         0   \n168424                      1           0             0         0   \n168425                      0           0             0         1   \n168426                      0           0             0         1   \n\n        vehicles_rob  vehicles_steal  \n0                  1               0  \n1                  0               0  \n2                  0               1  \n3                  0               0  \n4                  0               0  \n...              ...             ...  \n168422             0               0  \n168423             0               0  \n168424             0               0  \n168425             0               0  \n168426             0               0  \n\n[168427 rows x 10 columns]"
     },
     "execution_count": 1,
     "metadata": {},
     "output_type": "execute_result"
    }
   ],
   "source": [
    "import pandas as pd\n",
    "novo = pd.read_parquet(\"/home/maiconbanni/Documentos/UFF/datalake/gold/crime.parquet\")\n",
    "novo"
   ]
  }
 ],
 "metadata": {
  "kernelspec": {
   "display_name": "Python 3",
   "language": "python",
   "name": "python3"
  },
  "language_info": {
   "codemirror_mode": {
    "name": "ipython",
    "version": 3
   },
   "file_extension": ".py",
   "mimetype": "text/x-python",
   "name": "python",
   "nbconvert_exporter": "python",
   "pygments_lexer": "ipython3",
   "version": "3.8.10"
  },
  "orig_nbformat": 2
 },
 "nbformat": 4,
 "nbformat_minor": 2
}