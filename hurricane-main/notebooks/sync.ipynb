{
 "cells": [
  {
   "cell_type": "code",
   "execution_count": 27,
   "metadata": {},
   "outputs": [],
   "source": [
    "def check_params(schema, tablename):\n",
    "    if schema == \"\" or schema is None: schema = \"public\"\n",
    "    if tablename == \"\" or tablename is None: raise Exception(f\"Tablename not defined\")\n",
    "    else: tablename = tablename.upper()\n",
    "    return schema, tablename\n",
    "\n",
    "def get_truncate_table(schema, tablename):\n",
    "    return f\"truncate table {schema}.{tablename}\"\n",
    "\n",
    "def get_create_table(schema, tablename, tablespace=None, interfaces=[]):\n",
    "    if tablename == \"segment\":\n",
    "        create_table = f\"create table if not exists {schema}.{tablename}( seg_id integer NOT NULL, oneway boolean, name character varying(254), highway text[], length double precision, ver_id_star integer NOT NULL, ver_id_final integer NOT NULL )\"\n",
    "    if tablename == \"TIME\":\n",
    "        create_table = f\"create table if not exists {schema}.{tablename}( time_id integer NOT NULL, period character varying(32), weekday character varying(16), day integer, month integer, year integer)\"\n",
    "    if tablename == \"vertice\":\n",
    "        create_table = f\"create table if not exists {schema}.{tablename}( ver_id integer NOT NULL, vertice text NOT NULL, zone_id integer NOT NULL, district_id integer NOT NULL, neighborhood_id integer NOT NULL)\"\n",
    "    else:\n",
    "        create_table = f\"create table if not exists {schema}.{tablename}( time_id integer NOT NULL, seg_id integer NOT NULL )\"\n",
    "        for interface in interfaces:\n",
    "            create_table = create_table.replace(\")\", f\", {interface} integer)\")\n",
    "    \n",
    "    if tablespace: create_table = create_table + f\" tablespace {tablespace}\"\n",
    "\n",
    "    return create_table\n",
    "\n",
    "def get_copy_table_by_csv(csv_file_path, schema, tablename):\n",
    "    sql = f'''\n",
    "        COPY {schema}.{tablename} FROM '{csv_file_path}' DELIMITER ';' CSV;\n",
    "    '''\n",
    "    return sql\n",
    "\n",
    "def generate_csv_file_path(path, tablename, dataframe):\n",
    "    csv_file_path = f\"{path}/{tablename}.csv\"\n",
    "    dataframe.to_csv(csv_file_path, index=False, header=False, sep =';')\n",
    "\n",
    "def execute_sql(urlconnect, sql):\n",
    "    print(f\"Open Connection!\")\n",
    "    engine = create_engine(urlconnect)\n",
    "    conn = engine.connect()\n",
    "    pg_conn = psycopg2.connect(urlconnect)\n",
    "    cur = pg_conn.cursor()\n",
    "    print(f\"Start SQL execution: [{sql}]\")\n",
    "    cur.execute(sql)\n",
    "    print(f\"Finish SQL execution: [{sql}]\")\n",
    "    pg_conn.commit()\n",
    "    cur.close()\n",
    "    conn.close()\n",
    "    print(f\"Close Connection!\")\n",
    "    "
   ]
  },
  {
   "cell_type": "code",
   "execution_count": 29,
   "metadata": {},
   "outputs": [
    {
     "data": {
      "text/plain": [
       "'create table if not existis maiconbanni.CRIME( time_id integer NOT NULL, seg_id integer NOT NULL , a integer, b integer, c integer) tablespace default'"
      ]
     },
     "execution_count": 29,
     "metadata": {},
     "output_type": "execute_result"
    }
   ],
   "source": [
    "import pandas as pd\n",
    "import numpy as np\n",
    "import psycopg2\n",
    "from shapely import wkb\n",
    "from sqlalchemy import create_engine\n",
    "\n",
    "def sync_tablename(parquet_workdir, urlconnect, schema, tablename, tablespace=None, interfaces=[]):\n",
    "    # Read database file\n",
    "    parquet_file_path = f\"{parquet_workdir}/{tablename}.parquet\"\n",
    "    dataframe = pd.read_parquet(parquet_file_path)\n",
    "\n",
    "    generate_csv_file_path(parquet_workdir, tablename, dataframe)\n",
    "\n",
    "    create_table = get_create_table(schema, tablename, tablespace, interfaces)\n",
    "    execute_sql(urlconnect, create_table)\n",
    "\n",
    "    truncate_table = get_truncate_table(schema, tablename)\n",
    "    execute_sql(urlconnect, truncate_table)\n",
    "\n",
    "    if tablename == \"VERTICE\":\n",
    "        alter_table = f\"alter table {schema}.{tablename} drop column if exists vertice\"\n",
    "        execute_sql(urlconnect, alter_table)\n",
    "        alter_table = f\"alter table {schema}.{tablename} add column vertice text not null\"\n",
    "        execute_sql(urlconnect, alter_table)\n",
    "    elif tablename == \"SEGMENT\":\n",
    "        dataframe['name']    = dataframe['name'].apply(lambda name : \"{\" + \",\".join(name) + \"}\")\n",
    "        dataframe['highway'] = dataframe['highway'].apply(lambda highway : \"{\" + \",\".join(highway) + \"}\")\n",
    "    else:\n",
    "        for c in dataframe.columns: dataframe[c] = dataframe[c].astype(int)\n",
    "    \n",
    "    sql_copy = get_copy_table_by_csv(parquet_workdir, schema, tablename)\n",
    "    execute_sql(urlconnect, sql_copy)\n",
    "\n",
    "    if tablename == \"VERTICE\":\n",
    "        execute_sql(urlconnect, \"ALTER TABLE vertice add column geom geometry(point, 4326)\")\n",
    "        execute_sql(urlconnect, \"UPDATE vertice SET geom = st_setsrid(st_makepoint(split_part(vertice, ',',1) ::double precision, split_part(vertice, ',',2)::double precision),4326)\")\n",
    "        execute_sql(urlconnect, \"ALTER TABLE vertice drop column vertice\")\n",
    "        execute_sql(urlconnect, \"ALTER TABLE vertice rename column geom to vertice\")\n"
   ]
  },
  {
   "cell_type": "code",
   "execution_count": 21,
   "metadata": {},
   "outputs": [
    {
     "data": {
      "text/html": "<div>\n<style scoped>\n    .dataframe tbody tr th:only-of-type {\n        vertical-align: middle;\n    }\n\n    .dataframe tbody tr th {\n        vertical-align: top;\n    }\n\n    .dataframe thead th {\n        text-align: right;\n    }\n</style>\n<table border=\"1\" class=\"dataframe\">\n  <thead>\n    <tr style=\"text-align: right;\">\n      <th></th>\n      <th>time_id</th>\n      <th>seg_id</th>\n      <th>vehicles_rob</th>\n      <th>phones_rob</th>\n      <th>vehicles_steal</th>\n      <th>phones_steal</th>\n      <th>femicides</th>\n      <th>injurys_followed_by_death</th>\n      <th>intentional_homicides</th>\n      <th>robberys</th>\n    </tr>\n  </thead>\n  <tbody>\n    <tr>\n      <th>0</th>\n      <td>1</td>\n      <td>3391</td>\n      <td>1</td>\n      <td>0</td>\n      <td>0</td>\n      <td>0</td>\n      <td>0</td>\n      <td>0</td>\n      <td>0</td>\n      <td>0</td>\n    </tr>\n    <tr>\n      <th>1</th>\n      <td>1</td>\n      <td>4501</td>\n      <td>0</td>\n      <td>1</td>\n      <td>0</td>\n      <td>0</td>\n      <td>0</td>\n      <td>0</td>\n      <td>0</td>\n      <td>0</td>\n    </tr>\n    <tr>\n      <th>2</th>\n      <td>1</td>\n      <td>5193</td>\n      <td>0</td>\n      <td>0</td>\n      <td>1</td>\n      <td>0</td>\n      <td>0</td>\n      <td>0</td>\n      <td>0</td>\n      <td>0</td>\n    </tr>\n    <tr>\n      <th>3</th>\n      <td>1</td>\n      <td>5247</td>\n      <td>0</td>\n      <td>1</td>\n      <td>0</td>\n      <td>0</td>\n      <td>0</td>\n      <td>0</td>\n      <td>0</td>\n      <td>0</td>\n    </tr>\n    <tr>\n      <th>4</th>\n      <td>1</td>\n      <td>6692</td>\n      <td>0</td>\n      <td>0</td>\n      <td>0</td>\n      <td>1</td>\n      <td>0</td>\n      <td>0</td>\n      <td>0</td>\n      <td>0</td>\n    </tr>\n    <tr>\n      <th>...</th>\n      <td>...</td>\n      <td>...</td>\n      <td>...</td>\n      <td>...</td>\n      <td>...</td>\n      <td>...</td>\n      <td>...</td>\n      <td>...</td>\n      <td>...</td>\n      <td>...</td>\n    </tr>\n    <tr>\n      <th>165707</th>\n      <td>3495</td>\n      <td>103416</td>\n      <td>0</td>\n      <td>0</td>\n      <td>0</td>\n      <td>0</td>\n      <td>0</td>\n      <td>0</td>\n      <td>1</td>\n      <td>0</td>\n    </tr>\n    <tr>\n      <th>165708</th>\n      <td>3496</td>\n      <td>287412</td>\n      <td>0</td>\n      <td>0</td>\n      <td>0</td>\n      <td>0</td>\n      <td>0</td>\n      <td>0</td>\n      <td>1</td>\n      <td>0</td>\n    </tr>\n    <tr>\n      <th>165709</th>\n      <td>3497</td>\n      <td>249767</td>\n      <td>0</td>\n      <td>0</td>\n      <td>0</td>\n      <td>0</td>\n      <td>0</td>\n      <td>0</td>\n      <td>1</td>\n      <td>0</td>\n    </tr>\n    <tr>\n      <th>165710</th>\n      <td>3498</td>\n      <td>103416</td>\n      <td>0</td>\n      <td>0</td>\n      <td>0</td>\n      <td>0</td>\n      <td>0</td>\n      <td>0</td>\n      <td>0</td>\n      <td>1</td>\n    </tr>\n    <tr>\n      <th>165711</th>\n      <td>3499</td>\n      <td>103416</td>\n      <td>0</td>\n      <td>0</td>\n      <td>0</td>\n      <td>0</td>\n      <td>0</td>\n      <td>0</td>\n      <td>0</td>\n      <td>1</td>\n    </tr>\n  </tbody>\n</table>\n<p>165712 rows × 10 columns</p>\n</div>",
      "text/plain": "        time_id  seg_id  vehicles_rob  phones_rob  vehicles_steal  \\\n0             1    3391             1           0               0   \n1             1    4501             0           1               0   \n2             1    5193             0           0               1   \n3             1    5247             0           1               0   \n4             1    6692             0           0               0   \n...         ...     ...           ...         ...             ...   \n165707     3495  103416             0           0               0   \n165708     3496  287412             0           0               0   \n165709     3497  249767             0           0               0   \n165710     3498  103416             0           0               0   \n165711     3499  103416             0           0               0   \n\n        phones_steal  femicides  injurys_followed_by_death  \\\n0                  0          0                          0   \n1                  0          0                          0   \n2                  0          0                          0   \n3                  0          0                          0   \n4                  1          0                          0   \n...              ...        ...                        ...   \n165707             0          0                          0   \n165708             0          0                          0   \n165709             0          0                          0   \n165710             0          0                          0   \n165711             0          0                          0   \n\n        intentional_homicides  robberys  \n0                           0         0  \n1                           0         0  \n2                           0         0  \n3                           0         0  \n4                           0         0  \n...                       ...       ...  \n165707                      1         0  \n165708                      1         0  \n165709                      1         0  \n165710                      0         1  \n165711                      0         1  \n\n[165712 rows x 10 columns]"
     },
     "execution_count": 21,
     "metadata": {},
     "output_type": "execute_result"
    }
   ],
   "source": [
    "import pandas as pd\n",
    "import psycopg2\n",
    "from shapely import wkb\n",
    "from sqlalchemy import create_engine\n",
    "url = 'postgresql://cdadmin@localhost:5432/cdbase'\n",
    "engine   = create_engine(url)\n",
    "sql = \"select * from public.crime\"\n",
    "conn = engine.connect()\n",
    "conn.execute(sql)\n",
    "conn.close()\n",
    "pd.read_sql_query(sql, engine)"
   ]
  }
 ],
 "metadata": {
  "interpreter": {
   "hash": "4733b6f20de42127e1bffe8c39b666319322e0eaff195c03e0e3dd0cb35d0634"
  },
  "kernelspec": {
   "display_name": "Python 3",
   "language": "python",
   "name": "python3"
  },
  "language_info": {
   "codemirror_mode": {
    "name": "ipython",
    "version": 3
   },
   "file_extension": ".py",
   "mimetype": "text/x-python",
   "name": "python",
   "nbconvert_exporter": "python",
   "pygments_lexer": "ipython3",
   "version": "3.8.10"
  },
  "orig_nbformat": 4
 },
 "nbformat": 4,
 "nbformat_minor": 2
}